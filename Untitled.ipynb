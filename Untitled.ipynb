{
 "cells": [
  {
   "cell_type": "code",
   "execution_count": 1,
   "id": "requested-camping",
   "metadata": {},
   "outputs": [],
   "source": [
    "import numpy as np\n",
    "import matplotlib.pyplot as plt"
   ]
  },
  {
   "cell_type": "code",
   "execution_count": 2,
   "id": "billion-ballot",
   "metadata": {},
   "outputs": [],
   "source": [
    "eps_final = 0.01\n",
    "eps_start = 1.\n",
    "eps_decay = 8000"
   ]
  },
  {
   "cell_type": "code",
   "execution_count": 3,
   "id": "entertaining-question",
   "metadata": {},
   "outputs": [],
   "source": [
    "def explore(step):\n",
    "    return eps_final + (eps_start - eps_final) * np.exp(-1. * step / eps_decay)"
   ]
  },
  {
   "cell_type": "code",
   "execution_count": 9,
   "id": "inclusive-lyric",
   "metadata": {},
   "outputs": [],
   "source": [
    "eps_list = []\n",
    "\n",
    "for step in range(20000):\n",
    "    epsilon = explore(step)\n",
    "    eps_list.append(epsilon)"
   ]
  },
  {
   "cell_type": "code",
   "execution_count": 10,
   "id": "driven-methodology",
   "metadata": {},
   "outputs": [
    {
     "data": {
      "text/plain": [
       "[<matplotlib.lines.Line2D at 0x7fa5d6b2ab80>]"
      ]
     },
     "execution_count": 10,
     "metadata": {},
     "output_type": "execute_result"
    },
    {
     "data": {
      "image/png": "[encoded data removed]",
      "text/plain": [
       "<Figure size 432x288 with 1 Axes>"
      ]
     },
     "metadata": {
      "needs_background": "light"
     },
     "output_type": "display_data"
    }
   ],
   "source": [
    "plt.plot(eps_list)"
   ]
  },
  {
   "cell_type": "code",
   "execution_count": 6,
   "id": "explicit-blond",
   "metadata": {},
   "outputs": [
    {
     "data": {
      "text/plain": [
       "array([5, 0, 5, 4, 3])"
      ]
     },
     "execution_count": 6,
     "metadata": {},
     "output_type": "execute_result"
    }
   ],
   "source": [
    "np.random.randint(0, 6, 5)"
   ]
  },
  {
   "cell_type": "code",
   "execution_count": null,
   "id": "orange-unknown",
   "metadata": {},
   "outputs": [],
   "source": []
  }
 ],
 "metadata": {
  "kernelspec": {
   "display_name": "Python 3",
   "language": "python",
   "name": "python3"
  },
  "language_info": {
   "codemirror_mode": {
    "name": "ipython",
    "version": 3
   },
   "file_extension": ".py",
   "mimetype": "text/x-python",
   "name": "python",
   "nbconvert_exporter": "python",
   "pygments_lexer": "ipython3",
   "version": "3.8.5"
  }
 },
 "nbformat": 4,
 "nbformat_minor": 5
}
